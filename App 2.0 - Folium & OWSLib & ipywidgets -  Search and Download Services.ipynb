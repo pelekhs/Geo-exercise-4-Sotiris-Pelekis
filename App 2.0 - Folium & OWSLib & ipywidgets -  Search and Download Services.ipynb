{
 "cells": [
  {
   "cell_type": "markdown",
   "metadata": {},
   "source": [
    "# Import catalog from postgres"
   ]
  },
  {
   "cell_type": "code",
   "execution_count": 41,
   "metadata": {},
   "outputs": [
    {
     "data": {
      "text/html": [
       "<div>\n",
       "<style scoped>\n",
       "    .dataframe tbody tr th:only-of-type {\n",
       "        vertical-align: middle;\n",
       "    }\n",
       "\n",
       "    .dataframe tbody tr th {\n",
       "        vertical-align: top;\n",
       "    }\n",
       "\n",
       "    .dataframe thead th {\n",
       "        text-align: right;\n",
       "    }\n",
       "</style>\n",
       "<table border=\"1\" class=\"dataframe\">\n",
       "  <thead>\n",
       "    <tr style=\"text-align: right;\">\n",
       "      <th></th>\n",
       "      <th>id</th>\n",
       "      <th>layer_name</th>\n",
       "      <th>layer_type</th>\n",
       "      <th>n_layers</th>\n",
       "      <th>publication_date</th>\n",
       "      <th>reference_date</th>\n",
       "      <th>covering_period</th>\n",
       "      <th>layer_region</th>\n",
       "      <th>lang</th>\n",
       "      <th>abstract</th>\n",
       "      <th>keywords</th>\n",
       "      <th>wms_preview</th>\n",
       "      <th>grs</th>\n",
       "      <th>bbox</th>\n",
       "      <th>contains_timeseries</th>\n",
       "      <th>origin</th>\n",
       "      <th>contact_details</th>\n",
       "    </tr>\n",
       "  </thead>\n",
       "  <tbody>\n",
       "    <tr>\n",
       "      <th>0</th>\n",
       "      <td>1</td>\n",
       "      <td>DNI_yearly</td>\n",
       "      <td>raster</td>\n",
       "      <td>1</td>\n",
       "      <td>2020-04-07</td>\n",
       "      <td>2018-12-31</td>\n",
       "      <td>[1994-01-01, 2019-01-01)</td>\n",
       "      <td>Greece</td>\n",
       "      <td>ENG</td>\n",
       "      <td>Longterm yearly average of direct normal irrad...</td>\n",
       "      <td>Direct normal irradiance, DNI, raster, WCS, WMS</td>\n",
       "      <td>http://localhost:8082/geoserver/geonode/wms?se...</td>\n",
       "      <td>WGS84</td>\n",
       "      <td>POLYGON ((19.374 34.802, 19.374 41.749, 29.643...</td>\n",
       "      <td>False</td>\n",
       "      <td>https://solargis.com/</td>\n",
       "      <td>Sotiris Pelekis, email: pelekhs@gmail.com</td>\n",
       "    </tr>\n",
       "    <tr>\n",
       "      <th>1</th>\n",
       "      <td>2</td>\n",
       "      <td>NDVI_20010101</td>\n",
       "      <td>raster</td>\n",
       "      <td>1</td>\n",
       "      <td>2020-04-07</td>\n",
       "      <td>2001-01-01</td>\n",
       "      <td>[2001-01-01, 2001-01-02)</td>\n",
       "      <td>World</td>\n",
       "      <td>ENG</td>\n",
       "      <td>Single channel NDVI for the whole world for 20...</td>\n",
       "      <td>NDVI, raster, WCS, WMS</td>\n",
       "      <td>http://localhost:8082/geoserver/geonode/wms?se...</td>\n",
       "      <td>WGS84</td>\n",
       "      <td>POLYGON ((-180.000 -90.000, -180.000 83.634, 1...</td>\n",
       "      <td>False</td>\n",
       "      <td>https://www.usgs.gov/</td>\n",
       "      <td>Sotiris Pelekis, email: pelekhs@gmail.com</td>\n",
       "    </tr>\n",
       "    <tr>\n",
       "      <th>2</th>\n",
       "      <td>3</td>\n",
       "      <td>NDVI_20050101</td>\n",
       "      <td>raster</td>\n",
       "      <td>1</td>\n",
       "      <td>2020-04-07</td>\n",
       "      <td>2005-01-01</td>\n",
       "      <td>[2005-01-01, 2005-01-02)</td>\n",
       "      <td>World</td>\n",
       "      <td>ENG</td>\n",
       "      <td>Single-channel NDVI for the whole world for 20...</td>\n",
       "      <td>NDVI, raster, WCS, WMS</td>\n",
       "      <td>http://localhost:8082/geoserver/geonode/wms?se...</td>\n",
       "      <td>WGS84</td>\n",
       "      <td>POLYGON ((-180.000 -90.000, -180.000 83.634, 1...</td>\n",
       "      <td>False</td>\n",
       "      <td>https://www.usgs.gov/</td>\n",
       "      <td>Sotiris Pelekis, email: pelekhs@gmail.com</td>\n",
       "    </tr>\n",
       "    <tr>\n",
       "      <th>3</th>\n",
       "      <td>4</td>\n",
       "      <td>NDVI_20050301</td>\n",
       "      <td>raster</td>\n",
       "      <td>1</td>\n",
       "      <td>2020-04-07</td>\n",
       "      <td>2005-03-01</td>\n",
       "      <td>[2005-03-01, 2005-03-02)</td>\n",
       "      <td>World</td>\n",
       "      <td>ENG</td>\n",
       "      <td>Single-channel NDVI for the whole world for 20...</td>\n",
       "      <td>NDVI, raster, WCS, WMS</td>\n",
       "      <td>http://localhost:8082/geoserver/geonode/wms?se...</td>\n",
       "      <td>WGS84</td>\n",
       "      <td>POLYGON ((-180.000 -90.000, -180.000 83.634, 1...</td>\n",
       "      <td>False</td>\n",
       "      <td>https://www.usgs.gov/</td>\n",
       "      <td>Sotiris Pelekis, email: pelekhs@gmail.com</td>\n",
       "    </tr>\n",
       "    <tr>\n",
       "      <th>4</th>\n",
       "      <td>5</td>\n",
       "      <td>NDVI_20050601</td>\n",
       "      <td>raster</td>\n",
       "      <td>1</td>\n",
       "      <td>2020-04-07</td>\n",
       "      <td>2005-06-01</td>\n",
       "      <td>[2005-06-01, 2005-06-02)</td>\n",
       "      <td>World</td>\n",
       "      <td>ENG</td>\n",
       "      <td>Single-channel NDVI for the whole world for 20...</td>\n",
       "      <td>NDVI, raster, WCS, WMS</td>\n",
       "      <td>http://localhost:8082/geoserver/geonode/wms?se...</td>\n",
       "      <td>WGS84</td>\n",
       "      <td>POLYGON ((-180.000 -90.000, -180.000 83.634, 1...</td>\n",
       "      <td>False</td>\n",
       "      <td>https://www.usgs.gov/</td>\n",
       "      <td>Sotiris Pelekis, email: pelekhs@gmail.com</td>\n",
       "    </tr>\n",
       "  </tbody>\n",
       "</table>\n",
       "</div>"
      ],
      "text/plain": [
       "   id     layer_name layer_type  n_layers publication_date reference_date  \\\n",
       "0   1     DNI_yearly     raster         1       2020-04-07     2018-12-31   \n",
       "1   2  NDVI_20010101     raster         1       2020-04-07     2001-01-01   \n",
       "2   3  NDVI_20050101     raster         1       2020-04-07     2005-01-01   \n",
       "3   4  NDVI_20050301     raster         1       2020-04-07     2005-03-01   \n",
       "4   5  NDVI_20050601     raster         1       2020-04-07     2005-06-01   \n",
       "\n",
       "            covering_period layer_region lang  \\\n",
       "0  [1994-01-01, 2019-01-01)       Greece  ENG   \n",
       "1  [2001-01-01, 2001-01-02)        World  ENG   \n",
       "2  [2005-01-01, 2005-01-02)        World  ENG   \n",
       "3  [2005-03-01, 2005-03-02)        World  ENG   \n",
       "4  [2005-06-01, 2005-06-02)        World  ENG   \n",
       "\n",
       "                                            abstract  \\\n",
       "0  Longterm yearly average of direct normal irrad...   \n",
       "1  Single channel NDVI for the whole world for 20...   \n",
       "2  Single-channel NDVI for the whole world for 20...   \n",
       "3  Single-channel NDVI for the whole world for 20...   \n",
       "4  Single-channel NDVI for the whole world for 20...   \n",
       "\n",
       "                                          keywords  \\\n",
       "0  Direct normal irradiance, DNI, raster, WCS, WMS   \n",
       "1                           NDVI, raster, WCS, WMS   \n",
       "2                           NDVI, raster, WCS, WMS   \n",
       "3                           NDVI, raster, WCS, WMS   \n",
       "4                           NDVI, raster, WCS, WMS   \n",
       "\n",
       "                                         wms_preview    grs  \\\n",
       "0  http://localhost:8082/geoserver/geonode/wms?se...  WGS84   \n",
       "1  http://localhost:8082/geoserver/geonode/wms?se...  WGS84   \n",
       "2  http://localhost:8082/geoserver/geonode/wms?se...  WGS84   \n",
       "3  http://localhost:8082/geoserver/geonode/wms?se...  WGS84   \n",
       "4  http://localhost:8082/geoserver/geonode/wms?se...  WGS84   \n",
       "\n",
       "                                                bbox  contains_timeseries  \\\n",
       "0  POLYGON ((19.374 34.802, 19.374 41.749, 29.643...                False   \n",
       "1  POLYGON ((-180.000 -90.000, -180.000 83.634, 1...                False   \n",
       "2  POLYGON ((-180.000 -90.000, -180.000 83.634, 1...                False   \n",
       "3  POLYGON ((-180.000 -90.000, -180.000 83.634, 1...                False   \n",
       "4  POLYGON ((-180.000 -90.000, -180.000 83.634, 1...                False   \n",
       "\n",
       "                  origin                            contact_details  \n",
       "0  https://solargis.com/  Sotiris Pelekis, email: pelekhs@gmail.com  \n",
       "1  https://www.usgs.gov/  Sotiris Pelekis, email: pelekhs@gmail.com  \n",
       "2  https://www.usgs.gov/  Sotiris Pelekis, email: pelekhs@gmail.com  \n",
       "3  https://www.usgs.gov/  Sotiris Pelekis, email: pelekhs@gmail.com  \n",
       "4  https://www.usgs.gov/  Sotiris Pelekis, email: pelekhs@gmail.com  "
      ]
     },
     "execution_count": 41,
     "metadata": {},
     "output_type": "execute_result"
    }
   ],
   "source": [
    "import psycopg2\n",
    "import pandas as pd\n",
    "import geopandas as gpd\n",
    "import shapely\n",
    "from shapely.geometry import Point, Polygon, box\n",
    "import datetime\n",
    "\n",
    "# Import catalog from Postgress\n",
    "conn = psycopg2.connect(database=\"mydb\",\n",
    "  user=\"user\",\n",
    "  host=\"localhost\",\n",
    "  password=\"user\")\n",
    "catalog = gpd.read_postgis('select * from metadata_catalog', conn, geom_col='bbox')\n",
    "catalog.head()"
   ]
  },
  {
   "cell_type": "markdown",
   "metadata": {},
   "source": [
    "# Interactive queries on catalog"
   ]
  },
  {
   "cell_type": "markdown",
   "metadata": {},
   "source": [
    "In this section I create an interactive search and filtering application that performs queries on the catalog based on the selections of the user in the provided GUI. The application is based on the ipywidgets library. It perimits the user to perform various queries on the catalog."
   ]
  },
  {
   "cell_type": "markdown",
   "metadata": {},
   "source": [
    "## Helping functions"
   ]
  },
  {
   "cell_type": "markdown",
   "metadata": {},
   "source": [
    "This cell consists of two functions-tools for the application."
   ]
  },
  {
   "cell_type": "code",
   "execution_count": 2,
   "metadata": {},
   "outputs": [],
   "source": [
    "date_query = (\"\"\"SELECT * FROM metadata_catalog WHERE '[{}, {}]'::daterange <@ covering_period AND covering_period <> 'EMPTY'\"\"\")\n",
    "# list comparison assistant function\n",
    "def common_elements(list1, list2):\n",
    "    return [element for element in list1 if element in list2]\n",
    "\n",
    "# Date filtering assistant function\n",
    "def date_range_in_covering_period(d1, d2):\n",
    "    if d1 and d2 and d1.year in range(1000, 2100) and d2.year in range(1000,2100) and d1.month in range(1,13) and d2.month in range(1,13):\n",
    "        try:\n",
    "            d1s=d1.strftime(\"%Y-%m-%d\")\n",
    "        except AttributeError:\n",
    "            d1s=\"No date chosen\"\n",
    "        try:\n",
    "            d2s=d2.strftime(\"%Y-%m-%d\")\n",
    "        except AttributeError:\n",
    "            d2s=\"No date chosen\"\n",
    "        #display(\"Start date:\", d1s, \"End date:\", d2s)\n",
    "        if (d1s!=\"No date chosen\") and (d2s!=\"No date chosen\") and d1<=d2:\n",
    "            conn = psycopg2.connect(database=\"mydb\",\n",
    "                                    user=\"user\",\n",
    "                                    host=\"localhost\",\n",
    "                                    password=\"user\")\n",
    "            result = list(gpd.read_postgis(date_query.format(d1,d2),\n",
    "                                      conn, geom_col='bbox').layer_name.values)\n",
    "            return result\n",
    "        elif d1>d2:\n",
    "            return(\"Wrong dates\")\n",
    "        else:\n",
    "            return(\"No dates chosen\")\n",
    "    else:\n",
    "        return (\"Wrong dates\")"
   ]
  },
  {
   "cell_type": "markdown",
   "metadata": {},
   "source": [
    "This cell constitutes the **core of the application** and its result is a **Query Building UI**."
   ]
  },
  {
   "cell_type": "code",
   "execution_count": 25,
   "metadata": {},
   "outputs": [
    {
     "name": "stdout",
     "output_type": "stream",
     "text": [
      "Check if you want the layer to contain timeseries:\n"
     ]
    },
    {
     "data": {
      "application/vnd.jupyter.widget-view+json": {
       "model_id": "f8543535b82c4808bf92cc0620032683",
       "version_major": 2,
       "version_minor": 0
      },
      "text/plain": [
       "Checkbox(value=False, description='Timeseries only')"
      ]
     },
     "metadata": {},
     "output_type": "display_data"
    },
    {
     "name": "stdout",
     "output_type": "stream",
     "text": [
      "Choose bounding box to be included in the layer:\n"
     ]
    },
    {
     "data": {
      "text/plain": [
       "'Xmin'"
      ]
     },
     "metadata": {},
     "output_type": "display_data"
    },
    {
     "data": {
      "application/vnd.jupyter.widget-view+json": {
       "model_id": "2a358560811e4df08db94cfa89edc7d7",
       "version_major": 2,
       "version_minor": 0
      },
      "text/plain": [
       "FloatSlider(value=23.0, max=180.0, min=-180.0, readout_format='.4f', step=0.0001)"
      ]
     },
     "metadata": {},
     "output_type": "display_data"
    },
    {
     "data": {
      "text/plain": [
       "'Ymin'"
      ]
     },
     "metadata": {},
     "output_type": "display_data"
    },
    {
     "data": {
      "application/vnd.jupyter.widget-view+json": {
       "model_id": "98e8418b7b2148f3a5624db4993f9c43",
       "version_major": 2,
       "version_minor": 0
      },
      "text/plain": [
       "FloatSlider(value=37.0, max=90.0, min=-90.0, readout_format='.4f', step=0.0001)"
      ]
     },
     "metadata": {},
     "output_type": "display_data"
    },
    {
     "data": {
      "text/plain": [
       "'Xmax'"
      ]
     },
     "metadata": {},
     "output_type": "display_data"
    },
    {
     "data": {
      "application/vnd.jupyter.widget-view+json": {
       "model_id": "b23acdec4a844e42bf611305114ab60e",
       "version_major": 2,
       "version_minor": 0
      },
      "text/plain": [
       "FloatSlider(value=24.0, max=180.0, min=-180.0, readout_format='.4f', step=0.0001)"
      ]
     },
     "metadata": {},
     "output_type": "display_data"
    },
    {
     "data": {
      "text/plain": [
       "'Ymax'"
      ]
     },
     "metadata": {},
     "output_type": "display_data"
    },
    {
     "data": {
      "application/vnd.jupyter.widget-view+json": {
       "model_id": "6b41a9ae91974129b5e102d4032174ba",
       "version_major": 2,
       "version_minor": 0
      },
      "text/plain": [
       "FloatSlider(value=38.0, max=90.0, min=-90.0, readout_format='.4f', step=0.0001)"
      ]
     },
     "metadata": {},
     "output_type": "display_data"
    },
    {
     "data": {
      "application/vnd.jupyter.widget-view+json": {
       "model_id": "bd007e6b2e26498fa9b0ee18df8152ac",
       "version_major": 2,
       "version_minor": 0
      },
      "text/plain": [
       "Dropdown(description='Layer Type:', options=('Any', 'raster', 'vector'), value='Any')"
      ]
     },
     "metadata": {},
     "output_type": "display_data"
    },
    {
     "data": {
      "application/vnd.jupyter.widget-view+json": {
       "model_id": "1101ff6a434f4365a52bf572f08784fa",
       "version_major": 2,
       "version_minor": 0
      },
      "text/plain": [
       "Dropdown(description='Region:', options=('Any', 'Greece', 'World'), value='Any')"
      ]
     },
     "metadata": {},
     "output_type": "display_data"
    },
    {
     "name": "stdout",
     "output_type": "stream",
     "text": [
      "Choose date range to be included in the layer:\n"
     ]
    },
    {
     "data": {
      "application/vnd.jupyter.widget-view+json": {
       "model_id": "bb8e4ec16cea47efa036161ea72ddaf6",
       "version_major": 2,
       "version_minor": 0
      },
      "text/plain": [
       "DatePicker(value=None, description='From')"
      ]
     },
     "metadata": {},
     "output_type": "display_data"
    },
    {
     "data": {
      "application/vnd.jupyter.widget-view+json": {
       "model_id": "55f0908448814b968979d737b713c4d1",
       "version_major": 2,
       "version_minor": 0
      },
      "text/plain": [
       "DatePicker(value=None, description='To')"
      ]
     },
     "metadata": {},
     "output_type": "display_data"
    }
   ],
   "source": [
    "import datetime\n",
    "import ipywidgets as widgets\n",
    "from ipywidgets import interact, interact_manual, interactive\n",
    "\n",
    "## Widgets initialisation\n",
    "\n",
    "# Date range widget\n",
    "calendar1 = widgets.DatePicker(description='From', disabled=False)\n",
    "calendar2 = d2=widgets.DatePicker(description='To', disabled=False)\n",
    "\n",
    "# Timeseries widget\n",
    "ts_checkbox = widgets.Checkbox(value=False, description='Timeseries only')\n",
    "\n",
    "#BBOX coordinates widgets\n",
    "x1=widgets.FloatSlider(min=-180, max=180, step=0.0001, value=23, readout_format='.4f', name=\"Xmin\")\n",
    "x2= widgets.FloatSlider(min=-180, max=180, step=0.0001, value=24, readout_format='.4f') \n",
    "y1=widgets.FloatSlider(min=-90, max=90, step=0.0001, value=37, readout_format='.4f')\n",
    "y2= widgets.FloatSlider(min=-90, max=90, step=0.0001, value=38, readout_format='.4f')\n",
    "\n",
    "#Dropdown widgets\n",
    "type_dropdown = widgets.Dropdown(\n",
    "    options=[\"Any\"]+list(catalog.layer_type.unique()),\n",
    "    description='Layer Type:',\n",
    "    disabled=False,\n",
    ")\n",
    "region_dropdown = widgets.Dropdown(\n",
    "    options=[\"Any\"]+list(catalog.layer_region.unique()),\n",
    "    description='Region:',\n",
    "    disabled=False,\n",
    ")\n",
    "\n",
    "#Output Variable so as to keep output refreshed\n",
    "output = widgets.Output()\n",
    "date_query = (\"\"\"SELECT * FROM metadata_catalog WHERE '[{}, {}]'::daterange <@ covering_period AND covering_period <> 'EMPTY'\"\"\")\n",
    "\n",
    "# Filter ensembling function\n",
    "def common_filtering(date1, date2, ts, x1, y1, x2, y2, layer_type, region):\n",
    "    #clear output at every refresh\n",
    "    output.clear_output()\n",
    "    \n",
    "    #init common filter\n",
    "    common_filter=list(catalog.layer_name)\n",
    "    \n",
    "    # Timeseries filtering\n",
    "    if ts:\n",
    "        ts_filter = list(catalog[catalog[\"contains_timeseries\"]==True].layer_name)\n",
    "        common_filter=common_elements(common_filter, ts_filter)\n",
    "    \n",
    "    # Bbox filtering\n",
    "    bbox_filter = list(catalog[[catalog.loc[i][\"bbox\"].contains(box(x1, y1, x2, y2)) \n",
    "                           for i in range(len(catalog))]].layer_name.values)\n",
    "    common_filter = common_elements(common_filter, bbox_filter)\n",
    "    \n",
    "    # Layer type filtering\n",
    "    if layer_type != \"Any\":\n",
    "        layer_filter = list(catalog[catalog[\"layer_type\"]==layer_type].layer_name)\n",
    "        common_filter = common_elements(common_filter, layer_filter)\n",
    "        \n",
    "    # Region filtering\n",
    "    if region != \"Any\":\n",
    "        region_filter = list(catalog[catalog[\"layer_region\"]==region].layer_name)\n",
    "        common_filter = common_elements(common_filter, region_filter)\n",
    "    \n",
    "    #Date filtering\n",
    "    date_filter = date_range_in_covering_period(date1, date2)\n",
    "    if isinstance(date_filter, list):\n",
    "        common_filter = common_elements(common_filter, date_filter)\n",
    "    #elif date_filter==\"Wrong dates\":\n",
    "     #   with output:\n",
    "      #      display(\"Dates are wrong and are not taken into consideration in this search\")\n",
    "    with output:\n",
    "        display(common_filter)\n",
    "        return common_filter\n",
    "\n",
    "# Handler Functions for event handling on the GUI\n",
    "\n",
    "def ts_handler(change):\n",
    "    common_filtering(calendar2.value, calendar1.value, change.new, x1.value, y1.value,\n",
    "                     x2.value, y2.value, type_dropdown.value, region_dropdown.value)\n",
    "\n",
    "def date1_handler(change):\n",
    "    common_filtering(change.new, calendar2.value, ts_checkbox.value, x1.value, y1.value,\n",
    "                     x2.value, y2.value, type_dropdown.value, region_dropdown.value)\n",
    "\n",
    "def date2_handler(change):\n",
    "    common_filtering(calendar1.value, change.new, ts_checkbox.value, x1.value, y1.value,\n",
    "                     x2.value, y2.value, type_dropdown.value, region_dropdown.value)\n",
    "\n",
    "def x1_handler(change):\n",
    "    common_filtering(calendar1.value, calendar2.value, ts_checkbox.value, change.new, y1.value,\n",
    "                     x2.value, y2.value, type_dropdown.value, region_dropdown.value)\n",
    "\n",
    "def y1_handler(change):\n",
    "    common_filtering(calendar1.value, calendar2.value, ts_checkbox.value, x1.value, change.new,\n",
    "                     x2.value, y2.value, type_dropdown.value, region_dropdown.value)\n",
    "\n",
    "def x2_handler(change):\n",
    "    common_filtering(calendar1.value, calendar2.value, ts_checkbox.value, x1.value, y1.value,\n",
    "                     change.new, y2.value, type_dropdown.value, region_dropdown.value)\n",
    "\n",
    "def y2_handler(change):\n",
    "    common_filtering(calendar1.value, calendar2.value, ts_checkbox.value, x1.value, y1.value,\n",
    "                     x2.value, change.new, type_dropdown.value, region_dropdown.value)\n",
    "    \n",
    "def type_dropdown_handler(change):\n",
    "    common_filtering(calendar1.value, calendar2.value, ts_checkbox.value, x1.value, y1.value,\n",
    "                     x2.value, y2.value, change.new, region_dropdown.value)\n",
    "def region_dropdown_handler(change):\n",
    "    common_filtering(calendar1.value, calendar2.value, ts_checkbox.value, x1.value, y1.value,\n",
    "                     x2.value, y2.value, type_dropdown.value, change.new)\n",
    "    \n",
    "# Event observation\n",
    "\n",
    "calendar1.observe(date1_handler, names=\"value\")\n",
    "calendar2.observe(date2_handler, names=\"value\")\n",
    "ts_checkbox.observe(ts_handler, names=\"value\")\n",
    "x1.observe(x1_handler, names=\"value\")\n",
    "y1.observe(x2_handler, names=\"value\")\n",
    "x2.observe(y1_handler, names=\"value\")\n",
    "y2.observe(y2_handler, names=\"value\")\n",
    "type_dropdown.observe(type_dropdown_handler, names=\"value\")\n",
    "region_dropdown.observe(region_dropdown_handler, names=\"value\")\n",
    "\n",
    "#Display widgets\n",
    "\n",
    "print(\"Check if you want the layer to contain timeseries:\")\n",
    "display(ts_checkbox)\n",
    "print(\"Choose bounding box to be included in the layer:\")\n",
    "display(\"Xmin\")\n",
    "display(x1)\n",
    "display(\"Ymin\")\n",
    "display(y1)\n",
    "display(\"Xmax\")\n",
    "display(x2)\n",
    "display(\"Ymax\")\n",
    "display(y2)\n",
    "display(type_dropdown)\n",
    "display(region_dropdown)\n",
    "print(\"Choose date range to be included in the layer:\")\n",
    "display(calendar1)\n",
    "display(calendar2)"
   ]
  },
  {
   "cell_type": "markdown",
   "metadata": {},
   "source": [
    "Below we get a live update of the above query results:"
   ]
  },
  {
   "cell_type": "code",
   "execution_count": 36,
   "metadata": {
    "scrolled": false
   },
   "outputs": [
    {
     "data": {
      "application/vnd.jupyter.widget-view+json": {
       "model_id": "77638315d4184d82ab541788e9da090e",
       "version_major": 2,
       "version_minor": 0
      },
      "text/plain": [
       "Output(outputs=({'output_type': 'display_data', 'data': {'text/plain': '[]'}, 'metadata': {}},))"
      ]
     },
     "metadata": {},
     "output_type": "display_data"
    }
   ],
   "source": [
    "display(output)"
   ]
  },
  {
   "cell_type": "markdown",
   "metadata": {},
   "source": [
    "In the next section we preview the above results via geoserver and we offer downloading options to the user:"
   ]
  },
  {
   "cell_type": "markdown",
   "metadata": {},
   "source": [
    "# Preview & Download options through WMS, WCS & WFS (using OWSlib)"
   ]
  },
  {
   "cell_type": "markdown",
   "metadata": {},
   "source": [
    "In this section we use OWSlib in order to offer download options for the above selected layers. The user can see a preview of the layers that match to the above applied filters and click download in order to download the image."
   ]
  },
  {
   "cell_type": "markdown",
   "metadata": {},
   "source": [
    "Below I use the functions built and tested inside the file: WMS_WFS_WCS_experimentation.ipynb"
   ]
  },
  {
   "cell_type": "markdown",
   "metadata": {},
   "source": [
    "### WMS connection and download service"
   ]
  },
  {
   "cell_type": "code",
   "execution_count": 37,
   "metadata": {},
   "outputs": [],
   "source": [
    "from owslib.wms import WebMapService\n",
    "import os, sys\n",
    "url = 'http://localhost:8082/geoserver/ows'\n",
    "wms = WebMapService(url, version='1.1.1')\n",
    "\n",
    "def getMap(layer, bbox=None, workspace=\"geonode\", style=None):\n",
    "    if bbox:\n",
    "        response = wms.getmap(layers=[layer],\n",
    "                         size=(688,398),\n",
    "                         srs='EPSG:4326',\n",
    "                         bbox=bbox,\n",
    "                         format= 'image/png', \n",
    "                         transparent=True,\n",
    "                         style=style)\n",
    "    else:\n",
    "        response = wms.getmap(layers=[layer],\n",
    "                 size=(688,398),\n",
    "                 srs='EPSG:4326',\n",
    "                 bbox=wms[workspace+\":\"+layer].boundingBoxWGS84,\n",
    "                 format= 'image/png', \n",
    "                 transparent=True,\n",
    "                 style=style)\n",
    "    webbrowser.open(response.geturl())\n",
    "    f = open (os.path.join(\"wms\",layer), 'wb')\n",
    "    f.write(response.read())\n",
    "    f.close()\n",
    "    return response.geturl()"
   ]
  },
  {
   "cell_type": "markdown",
   "metadata": {},
   "source": [
    "### WFS connection and download service"
   ]
  },
  {
   "cell_type": "code",
   "execution_count": 38,
   "metadata": {},
   "outputs": [],
   "source": [
    "from owslib.wfs import WebFeatureService\n",
    "wfs = WebFeatureService(url=url, version='1.1.0')\n",
    "wfs.identification.title\n",
    "\n",
    "def getFeature(layer, bbox=None, workspace=\"geonode\", format=\"json\"):\n",
    "    if bbox:\n",
    "        response = wfs.getfeature(typename=workspace+\":\"+layer, outputFormat=format, bbox=bbox)\n",
    "    else:\n",
    "        response = wfs.getfeature(typename=workspace+\":\"+layer, outputFormat=format,\n",
    "                                  bbox=wfs[workspace+\":\"+layer].boundingBoxWGS84)\n",
    "    with open(os.path.join(\"wfs\", layer+\".\"+format), 'wb') as f:\n",
    "        while True:\n",
    "            data = response.read(100)\n",
    "            if not data:\n",
    "                break\n",
    "            f.write(data)\n",
    "    name=f.name\n",
    "    f.close\n",
    "    return (name)"
   ]
  },
  {
   "cell_type": "markdown",
   "metadata": {},
   "source": [
    "### WCS connection and download service"
   ]
  },
  {
   "cell_type": "code",
   "execution_count": 39,
   "metadata": {},
   "outputs": [],
   "source": [
    "from owslib.wcs import WebCoverageService\n",
    "import webbrowser\n",
    "\n",
    "wcs = WebCoverageService(url=url, version='1.0.0')\n",
    "\n",
    "def wcs_download(layer, bbox=None, workspace=\"geonode\", format=\"GeoTIFF\", height=512, width=512):\n",
    "    if bbox:\n",
    "        response = wcs.getCoverage(identifier=\"geonode\"+\":\"+layer, format=format, height=height, width=width, crs=\"EPSG:4326\", bbox=bbox)\n",
    "    else:\n",
    "        response = wcs.getCoverage(identifier=\"geonode\"+\":\"+layer, format=format, height=height, width=width, crs=\"EPSG:4326\")\n",
    "    webbrowser.open(response.geturl())\n",
    "    return response.geturl()"
   ]
  },
  {
   "cell_type": "markdown",
   "metadata": {},
   "source": [
    "# Preview and Interactive Download application"
   ]
  },
  {
   "cell_type": "code",
   "execution_count": 40,
   "metadata": {},
   "outputs": [
    {
     "data": {
      "application/vnd.jupyter.widget-view+json": {
       "model_id": "001a0c83860a427f8cbcb952c7138c06",
       "version_major": 2,
       "version_minor": 0
      },
      "text/plain": [
       "interactive(children=(Dropdown(description='layer_name', options=('DNI_yearly', 'PVOUT', 'PVOUT_yearly', 'TEMP…"
      ]
     },
     "metadata": {},
     "output_type": "display_data"
    },
    {
     "data": {
      "application/vnd.jupyter.widget-view+json": {
       "model_id": "05e2036a5a3d45f78a1220ed54704660",
       "version_major": 2,
       "version_minor": 0
      },
      "text/plain": [
       "Checkbox(value=False, description='Use bounding box from search')"
      ]
     },
     "metadata": {},
     "output_type": "display_data"
    },
    {
     "data": {
      "application/vnd.jupyter.widget-view+json": {
       "model_id": "2f726cd1847649d587025ad3c5630ddb",
       "version_major": 2,
       "version_minor": 0
      },
      "text/plain": [
       "Button(description='Download options', icon='info', style=ButtonStyle(), tooltip='Description')"
      ]
     },
     "metadata": {},
     "output_type": "display_data"
    },
    {
     "data": {
      "application/vnd.jupyter.widget-view+json": {
       "model_id": "09e0db46abf94d99b92ec296803e62c1",
       "version_major": 2,
       "version_minor": 0
      },
      "text/plain": [
       "Output()"
      ]
     },
     "metadata": {},
     "output_type": "display_data"
    }
   ],
   "source": [
    "import os\n",
    "from IPython.display import Image, IFrame, display\n",
    "\n",
    "# Initialisations\n",
    "#query results from above\n",
    "query_results = output.outputs[0][\"data\"][\"text/plain\"].\\\n",
    "replace(\"'\",\"\").replace(\"[\",\"\").replace(\"]\",\"\").replace(\"\\n\",\"\").\\\n",
    "replace(\" \",\"\").split(\",\") if len(output.outputs)>0 else list(catalog.layer_name)\n",
    "\n",
    "# Widgets\n",
    "\n",
    "dropdown = widgets.Dropdown(options=query_results)\n",
    "\n",
    "button = widgets.Button(\n",
    "    value=False,\n",
    "    description='Download options',\n",
    "    disabled=False,\n",
    "    button_style='', # 'success', 'info', 'warning', 'danger' or ''\n",
    "    tooltip='Description',\n",
    "    icon='info' # (FontAwesome names without the `fa-` prefix)\n",
    ")\n",
    "WMS_button = widgets.Button(\n",
    "    value=False,\n",
    "    description='Image',\n",
    "    disabled=False,\n",
    "    button_style='', # 'success', 'info', 'warning', 'danger' or ''\n",
    "    tooltip='Description',\n",
    "    icon='download' # (FontAwesome names without the `fa-` prefix)\n",
    ")\n",
    "WFS_button = widgets.Button(\n",
    "    value=False,\n",
    "    description='Vector',\n",
    "    disabled=True,\n",
    "    button_style='',\n",
    "    tooltip='Description',\n",
    "    icon='download' # (FontAwesome names without the `fa-` prefix)\n",
    ")\n",
    "WCS_button = widgets.Button(\n",
    "    value=False,\n",
    "    description='Raster',\n",
    "    disabled=True,\n",
    "    button_style='',\n",
    "    tooltip='Description',\n",
    "    icon='download' # (FontAwesome names without the `fa-` prefix)\n",
    ")\n",
    "# bbox checkbox\n",
    "bbox = widgets.Checkbox(value=False, description='Use bounding box from search')\n",
    "\n",
    "# output\n",
    "output = widgets.Output()\n",
    "\n",
    "#Preview function\n",
    "def show_geoserver_preview(layer_name = dropdown):\n",
    "    print('Please choose the layer from the menu that you want to download')\n",
    "    display(IFrame(src=catalog[catalog[\"layer_name\"]==layer_name][\"wms_preview\"].values[0] ,width=700, height=600))\n",
    "    return layer_name\n",
    "\n",
    "# Download options: Enable WCS only for raster and WFS only for vector layers\n",
    "def download_options(layer_name):\n",
    "    with output:\n",
    "        #all\n",
    "        display(WMS_button)\n",
    "        WMS_button.on_click(on_WMS_button_clicked) \n",
    "        #raster\n",
    "        WCS_button.disabled = True\n",
    "        if catalog[catalog[\"layer_name\"]==layer_name][\"layer_type\"].values[0]==\"raster\":\n",
    "            WCS_button.disabled = False\n",
    "        display(WCS_button)\n",
    "        WCS_button.on_click(on_WCS_button_clicked)\n",
    "        #vector\n",
    "        WFS_button.disabled = True\n",
    "        if catalog[catalog[\"layer_name\"]==layer_name][\"layer_type\"].values[0]==\"vector\":\n",
    "            WFS_button.disabled = False\n",
    "        display(WFS_button)\n",
    "        WFS_button.on_click(on_WFS_button_clicked)\n",
    "\n",
    "# event handlers\n",
    "def on_WMS_button_clicked(b):\n",
    "    #with output:\n",
    "    print(\"The file \" + dropdown.value + \" is being downloaded using WMS as PNG\")\n",
    "    if bbox.value:\n",
    "        return getMap(dropdown.value, [x1.value, y1.value, x2.value, y2.value])\n",
    "    else:\n",
    "        return getMap(dropdown.value)\n",
    "def on_WCS_button_clicked(b):\n",
    "    #with output:\n",
    "    print(\"The file \" + dropdown.value + \" is being downloaded using WCS as GeoTiff\")\n",
    "    if bbox.value:\n",
    "        return wcs_download(dropdown.value, [x1.value, y1.value, x2.value, y2.value])\n",
    "    else:\n",
    "        return wcs_download(dropdown.value)\n",
    "    \n",
    "def on_WFS_button_clicked(b):\n",
    "    #with output:\n",
    "    print(\"The file \" + dropdown.value + \" is being downloaded using WFS as GeoJson\")\n",
    "    if bbox.value:\n",
    "        return getFeature(dropdown.value, [x1.value, y1.value, x2.value, y2.value])\n",
    "    else:\n",
    "        return getFeature(dropdown.value)\n",
    "def on_button_clicked(b):\n",
    "    output.clear_output()\n",
    "    with output:\n",
    "        print(\"Choose if you need data or image\")\n",
    "    return download_options(dropdown.value)\n",
    "\n",
    "def on_change(change):\n",
    "    if change['type'] == 'change' and change['name'] == 'value':\n",
    "        output.clear_output()\n",
    "\n",
    "# preview\n",
    "preview = interactive(show_geoserver_preview)\n",
    "display(preview)\n",
    "dropdown.observe(on_change)\n",
    "\n",
    "# bbox\n",
    "display(bbox)\n",
    "\n",
    "# Downloads\n",
    "display(button)\n",
    "button.on_click(on_button_clicked)\n",
    "\n",
    "\n",
    "display(output)"
   ]
  }
 ],
 "metadata": {
  "kernelspec": {
   "display_name": "Python 3",
   "language": "python",
   "name": "python3"
  },
  "language_info": {
   "codemirror_mode": {
    "name": "ipython",
    "version": 3
   },
   "file_extension": ".py",
   "mimetype": "text/x-python",
   "name": "python",
   "nbconvert_exporter": "python",
   "pygments_lexer": "ipython3",
   "version": "3.8.2"
  }
 },
 "nbformat": 4,
 "nbformat_minor": 4
}
