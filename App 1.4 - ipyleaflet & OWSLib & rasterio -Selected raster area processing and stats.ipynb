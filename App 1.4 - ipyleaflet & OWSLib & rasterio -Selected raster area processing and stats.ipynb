{
 "cells": [
  {
   "cell_type": "markdown",
   "metadata": {},
   "source": [
    "# Processing Application\n",
    "## Display mean values of yearly raster data into user selected area."
   ]
  },
  {
   "cell_type": "markdown",
   "metadata": {},
   "source": [
    "This application makes use of the **ipyleaflet** and **rasterio** packages in addition to owslib. Folium is not used here. The user is prompted to select a bounding box inside the map. The coordinates are updated automatically. The application goes on downloading "
   ]
  },
  {
   "cell_type": "markdown",
   "metadata": {},
   "source": [
    "## WMS with geoserver initiation as normal"
   ]
  },
  {
   "cell_type": "code",
   "execution_count": 1,
   "metadata": {},
   "outputs": [],
   "source": [
    "# WMS for NDVI layer from geoserver\n",
    "from owslib.wms import WebMapService\n",
    "url = 'http://localhost:8082/geoserver/ows'\n",
    "wms = WebMapService(url, version='1.1.1')"
   ]
  },
  {
   "cell_type": "markdown",
   "metadata": {},
   "source": [
    "I choose raster layers and styles here:"
   ]
  },
  {
   "cell_type": "code",
   "execution_count": 2,
   "metadata": {},
   "outputs": [
    {
     "name": "stdout",
     "output_type": "stream",
     "text": [
      "The following map consists of three layers:\n",
      "\n",
      "Layer 1 :\n",
      "Longterm yearly average of potential photovoltaic production (PVOUT) in kWh/kWp, covering the period 1994-2018 \n",
      "\n",
      "Layer 2 :\n",
      "Longterm yearly average of air temperature (TEMP) in °C, covering the period\r\n",
      "1994-2018 \n",
      "\n",
      "Layer 3 :\n",
      "Longterm yearly average of direct normal irradiation (DNI) in kWh/m2, covering\r\n",
      "the period 1994-2018 \n",
      "\n"
     ]
    },
    {
     "data": {
      "text/plain": [
       "[None, None, None]"
      ]
     },
     "execution_count": 2,
     "metadata": {},
     "output_type": "execute_result"
    }
   ],
   "source": [
    "dni = \"DNI_yearly\"\n",
    "pvout = \"PVOUT_yearly\"\n",
    "temp = \"TEMP_yearly\"\n",
    "style = 'geonode:3color_gradient_PVOUT'\n",
    "print(\"The following map consists of three layers:\\n\")\n",
    "[print(\"Layer\",i,\":\\n\"+wms[\"geonode:\"+layer].abstract, \"\\n\") for (layer,i) in zip([pvout, temp, dni], [1,2,3])]"
   ]
  },
  {
   "cell_type": "code",
   "execution_count": 6,
   "metadata": {},
   "outputs": [],
   "source": [
    "from ipyleaflet import Map, Polygon, WMSLayer, LayersControl, basemaps, FullScreenControl\n",
    "from IPython.core.display import display, HTML\n",
    "\n",
    "center = [38.2, 23.5]\n",
    "zoom=6\n",
    "\n",
    "countries = WMSLayer(\n",
    "    url=url,\n",
    "    layers=\"geonode:ne_10m_admin_0_countries\",\n",
    "    format='image/png',\n",
    "    transparent=True,\n",
    "    attribution= \"Eurostat, Natural Earth, Countries Data 2016\",\n",
    "    opacity=0.1,\n",
    ")\n",
    "\n",
    "m = Map(center=center, zoom=zoom, basemap=basemaps.MtbMap, name='Main map')\n",
    "\n",
    "pvout_l = WMSLayer(\n",
    "    url=url,\n",
    "    layers=\"geonode:\"+pvout,\n",
    "    format='image/png',\n",
    "    transparent=True,\n",
    "    opacity=0.1,\n",
    "    style=style,\n",
    "    control=True,\n",
    "    name=\"PVOUT\",\n",
    "    show=False\n",
    ")\n",
    "\n",
    "temp_l = WMSLayer(\n",
    "    url=url,\n",
    "    #layers='geonode:NDVI_20100101',\n",
    "    layers=\"geonode:\"+temp,\n",
    "    format='image/png',\n",
    "    transparent=True,\n",
    "    opacity=0.1,\n",
    "    show=True,\n",
    "    control=True,\n",
    "    name=\"Temperature\"\n",
    ")\n",
    "\n",
    "dni_l = WMSLayer(\n",
    "    url=url,\n",
    "    layers=\"geonode:\"+dni,\n",
    "    format='image/png',\n",
    "    transparent=True,\n",
    "    opacity=0.1,\n",
    "    style=style,\n",
    "    show=False,\n",
    "    control=True,\n",
    "    name=\"DNI\"\n",
    ")\n",
    "\n",
    "m.add_layer(dni_l)\n",
    "m.add_layer(pvout_l)\n",
    "m.add_layer(temp_l)\n",
    "\n",
    "\n",
    "control = LayersControl(position='topright')\n",
    "m.add_control(control)\n",
    "m.add_control(FullScreenControl())"
   ]
  },
  {
   "cell_type": "markdown",
   "metadata": {},
   "source": [
    "I create a polygon that can be transformed (i.e. rotated and scaled) and dragged. You can drag the polygon around, or use the handler to rotate it and to scale it. Note that the transformations are synced accross all the map views."
   ]
  },
  {
   "cell_type": "code",
   "execution_count": 7,
   "metadata": {},
   "outputs": [
    {
     "name": "stdout",
     "output_type": "stream",
     "text": [
      "Please move polygon in order to select area for advanced aggregated statistics:\n"
     ]
    },
    {
     "data": {
      "application/vnd.jupyter.widget-view+json": {
       "model_id": "6e7936beec3e4ad383d3a8b53685dbb3",
       "version_major": 2,
       "version_minor": 0
      },
      "text/plain": [
       "Map(center=[38.2, 23.5], controls=(ZoomControl(options=['position', 'zoom_in_text', 'zoom_in_title', 'zoom_out…"
      ]
     },
     "metadata": {},
     "output_type": "display_data"
    }
   ],
   "source": [
    "polygon_coords = [\n",
    "    [37, 23],\n",
    "    [37, 24],\n",
    "    [38, 24],\n",
    "    [38, 23]]\n",
    "\n",
    "pg = Polygon(locations=polygon_coords, transform=True, draggable=True, name=\"Selection Box\")\n",
    "m.add_layer(pg)\n",
    "\n",
    "print(\"Please move polygon in order to select area for advanced aggregated statistics:\")\n",
    "m"
   ]
  },
  {
   "cell_type": "markdown",
   "metadata": {},
   "source": [
    "In this section I get the bbox coordinates as defined by the user:"
   ]
  },
  {
   "cell_type": "code",
   "execution_count": 5,
   "metadata": {},
   "outputs": [
    {
     "name": "stdout",
     "output_type": "stream",
     "text": [
      "The selected bounding box will be downloaded using WCS for the 3 layers in the next section:\n",
      "\n",
      "Bounding box coordinates: (23, 37, 24, 38)\n"
     ]
    }
   ],
   "source": [
    "if isinstance(pg.locations[0][0], dict):\n",
    "    bbox = (pg.locations[0][0]['lng'], \n",
    "            pg.locations[0][0]['lat'],\n",
    "            pg.locations[0][2]['lng'],\n",
    "            pg.locations[0][2]['lat'])\n",
    "else:\n",
    "    bbox = (pg.locations[0][1],\n",
    "            pg.locations[0][0],\n",
    "            pg.locations[2][1],\n",
    "            pg.locations[2][0])\n",
    "print(\"The selected bounding box will be downloaded using WCS for the 3 layers \"\\\n",
    "      \"in the next section:\\n\\nBounding box coordinates: {}\".format(bbox))"
   ]
  },
  {
   "cell_type": "markdown",
   "metadata": {},
   "source": [
    "I download the specific bounding box from the raster layer from geoserver using the download functions presented in exercise 2."
   ]
  },
  {
   "cell_type": "markdown",
   "metadata": {},
   "source": [
    "### WCS connection and download service for the selected area"
   ]
  },
  {
   "cell_type": "code",
   "execution_count": 6,
   "metadata": {},
   "outputs": [],
   "source": [
    "from owslib.wcs import WebCoverageService\n",
    "import webbrowser\n",
    "import os\n",
    "\n",
    "wcs = WebCoverageService(url=url, version='1.0.0')\n",
    "\n",
    "def wcs_download(layer, bbox=None, workspace=\"geonode\", format=\"GeoTIFF\", height=1024, width=1024):\n",
    "    if bbox:\n",
    "        response = wcs.getCoverage(identifier=\"geonode\"+\":\"+layer, format=format, height=height, width=width, crs=\"EPSG:4326\", bbox=bbox)\n",
    "    else:\n",
    "        response = wcs.getCoverage(identifier=\"geonode\"+\":\"+layer, format=format, height=height, width=width, crs=\"EPSG:4326\")\n",
    "    webbrowser.open(response.geturl())\n",
    "    return response.geturl()"
   ]
  },
  {
   "cell_type": "markdown",
   "metadata": {},
   "source": [
    "The user is prompted to the download page and has to store the downloaded files in a folder named with relative \"/wcs\"."
   ]
  },
  {
   "cell_type": "code",
   "execution_count": 7,
   "metadata": {},
   "outputs": [
    {
     "data": {
      "text/plain": [
       "'http://localhost:8082/geoserver/wcs?version=1.0.0&request=GetCoverage&service=WCS&Coverage=geonode%3ADNI_yearly&BBox=23%2C37%2C24%2C38&crs=EPSG%3A4326&format=GeoTIFF&width=1024&height=1024'"
      ]
     },
     "execution_count": 7,
     "metadata": {},
     "output_type": "execute_result"
    }
   ],
   "source": [
    "wcs_download(pvout, bbox=bbox if bbox else None)\n",
    "wcs_download(temp, bbox=bbox if bbox else None)\n",
    "wcs_download(dni, bbox=bbox if bbox else None)"
   ]
  },
  {
   "cell_type": "markdown",
   "metadata": {},
   "source": [
    "## Extract mean values for each raster layer"
   ]
  },
  {
   "cell_type": "code",
   "execution_count": 8,
   "metadata": {},
   "outputs": [],
   "source": [
    "import rasterio\n",
    "import os\n",
    "import numpy as np\n",
    "\n",
    "temp_r = rasterio.open(os.path.join('wcs', 'geonode_' + temp + '.tif'))\n",
    "dni_r = rasterio.open(os.path.join('wcs', 'geonode_' + dni + '.tif'))\n",
    "pvout_r = rasterio.open(os.path.join('wcs', 'geonode_' + pvout + '.tif'))"
   ]
  },
  {
   "cell_type": "markdown",
   "metadata": {},
   "source": [
    "Check Bounding Box"
   ]
  },
  {
   "cell_type": "code",
   "execution_count": 9,
   "metadata": {},
   "outputs": [
    {
     "data": {
      "text/plain": [
       "BoundingBox(left=22.105871016944615, bottom=37.84372860643055, right=22.484591017825565, top=38.09970041593117)"
      ]
     },
     "execution_count": 9,
     "metadata": {},
     "output_type": "execute_result"
    }
   ],
   "source": [
    "pvout_r.bounds"
   ]
  },
  {
   "cell_type": "markdown",
   "metadata": {},
   "source": [
    "Parse raster data into numpy arrays"
   ]
  },
  {
   "cell_type": "code",
   "execution_count": 10,
   "metadata": {},
   "outputs": [
    {
     "data": {
      "text/plain": [
       "(1024, 1024)"
      ]
     },
     "execution_count": 10,
     "metadata": {},
     "output_type": "execute_result"
    }
   ],
   "source": [
    "dni_band = dni_r.read(1)\n",
    "temp_band = temp_r.read(1)\n",
    "pvout_band = pvout_r.read(1)\n",
    "np.shape(pvout_band)"
   ]
  },
  {
   "cell_type": "markdown",
   "metadata": {},
   "source": [
    "## Extract mean raster values over bbox area excluding empty areas nan values"
   ]
  },
  {
   "cell_type": "markdown",
   "metadata": {},
   "source": [
    "### Mean Temperature"
   ]
  },
  {
   "cell_type": "code",
   "execution_count": 101,
   "metadata": {},
   "outputs": [
    {
     "name": "stdout",
     "output_type": "stream",
     "text": [
      "The mean temperature in the selected area is 10.237 Celsius degrees\n"
     ]
    }
   ],
   "source": [
    "temp_mean = temp_band[~np.isnan(temp_band)]\n",
    "print (\"The mean temperature in the selected area is {:.3f} Celsius degrees\".format(np.mean(temp_mean)))"
   ]
  },
  {
   "cell_type": "markdown",
   "metadata": {},
   "source": [
    "### Mean Potential Photovoltaic production"
   ]
  },
  {
   "cell_type": "code",
   "execution_count": 102,
   "metadata": {},
   "outputs": [
    {
     "name": "stdout",
     "output_type": "stream",
     "text": [
      "The mean potential photovoltaic production in the selected area is 1491.729 kWh/kWp\n"
     ]
    }
   ],
   "source": [
    "pvout_mean = pvout_band[~np.isnan(pvout_band)]\n",
    "print (\"The mean potential photovoltaic production in the selected area is {:.3f} kWh/kWp\".format(np.mean(pvout_mean)))"
   ]
  },
  {
   "cell_type": "markdown",
   "metadata": {},
   "source": [
    "### Mean Direct Normal Irradiation"
   ]
  },
  {
   "cell_type": "code",
   "execution_count": 103,
   "metadata": {},
   "outputs": [
    {
     "name": "stdout",
     "output_type": "stream",
     "text": [
      "The mean direct normal irradiation in the selected area is 1575.812 kwh/m^2\n"
     ]
    }
   ],
   "source": [
    "dni_mean = dni_band[~np.isnan(dni_band)]\n",
    "print (\"The mean direct normal irradiation in the selected area is {:.3f} kwh/m^2\".format(np.mean(dni_mean)))"
   ]
  }
 ],
 "metadata": {
  "kernelspec": {
   "display_name": "Python 3",
   "language": "python",
   "name": "python3"
  },
  "language_info": {
   "codemirror_mode": {
    "name": "ipython",
    "version": 3
   },
   "file_extension": ".py",
   "mimetype": "text/x-python",
   "name": "python",
   "nbconvert_exporter": "python",
   "pygments_lexer": "ipython3",
   "version": "3.8.2"
  },
  "widgets": {
   "state": {},
   "version": "1.0.0"
  }
 },
 "nbformat": 4,
 "nbformat_minor": 2
}
