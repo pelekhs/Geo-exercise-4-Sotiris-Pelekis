{
 "cells": [
  {
   "cell_type": "markdown",
   "metadata": {},
   "source": [
    "# Application for the display of raster data from geoserver\n",
    "## WMS initialisation"
   ]
  },
  {
   "cell_type": "code",
   "execution_count": 17,
   "metadata": {},
   "outputs": [
    {
     "data": {
      "text/plain": [
       "['geonode:NDVIs',\n",
       " 'geonode:timeseries_overall',\n",
       " 'geonode:DNI_yearly',\n",
       " 'geonode:NDVI_20010101',\n",
       " 'geonode:NDVI_20050101',\n",
       " 'geonode:NDVI_20050301',\n",
       " 'geonode:NDVI_20050601',\n",
       " 'geonode:NDVI_20050901',\n",
       " 'geonode:NDVI_20100101',\n",
       " 'geonode:PVOUT',\n",
       " 'geonode:PVOUT_yearly',\n",
       " 'geonode:TEMP_yearly',\n",
       " 'geonode:demand',\n",
       " 'geonode:kwh_sq',\n",
       " 'geonode:ne_10m_admin_0_countries',\n",
       " 'geonode:timeseries']"
      ]
     },
     "execution_count": 17,
     "metadata": {},
     "output_type": "execute_result"
    }
   ],
   "source": [
    "from owslib.wms import WebMapService\n",
    "url = 'http://localhost:8082/geoserver/ows'\n",
    "wms = WebMapService(url, version='1.1.1')\n",
    "[i for i in wms.contents.keys() if i.startswith(\"geonode:\")]"
   ]
  },
  {
   "cell_type": "code",
   "execution_count": 18,
   "metadata": {},
   "outputs": [
    {
     "data": {
      "text/plain": [
       "'PVOUT'"
      ]
     },
     "execution_count": 18,
     "metadata": {},
     "output_type": "execute_result"
    }
   ],
   "source": [
    "layer = 'geonode:PVOUT'\n",
    "wms[layer].title"
   ]
  },
  {
   "cell_type": "code",
   "execution_count": 19,
   "metadata": {},
   "outputs": [
    {
     "data": {
      "text/plain": [
       "{'raster': {'title': 'Default Raster',\n",
       "  'legend': 'http://localhost:8082/geoserver/wms?request=GetLegendGraphic&format=image%2Fpng&width=20&height=20&layer=geonode%3APVOUT'},\n",
       " 'geonode:3color_gradient_PVOUT': {'title': 'SLD Cook Book: 3 color gradient',\n",
       "  'legend': 'http://localhost:8082/geoserver/wms?request=GetLegendGraphic&format=image%2Fpng&width=20&height=20&layer=geonode%3APVOUT&style=3color_gradient_PVOUT'}}"
      ]
     },
     "execution_count": 19,
     "metadata": {},
     "output_type": "execute_result"
    }
   ],
   "source": [
    "wms[layer].styles"
   ]
  },
  {
   "cell_type": "markdown",
   "metadata": {},
   "source": [
    "## Scrolling raster time scroller preparation"
   ]
  },
  {
   "cell_type": "code",
   "execution_count": 20,
   "metadata": {},
   "outputs": [
    {
     "name": "stdout",
     "output_type": "stream",
     "text": [
      "['2018-01-01T00:00:00.000Z', '2018-02-01T00:00:00.000Z', '2018-03-01T00:00:00.000Z', '2018-04-01T00:00:00.000Z', '2018-05-01T00:00:00.000Z', '2018-06-01T00:00:00.000Z', '2018-07-01T00:00:00.000Z', '2018-08-01T00:00:00.000Z', '2018-09-01T00:00:00.000Z', '2018-10-01T00:00:00.000Z', '2018-11-01T00:00:00.000Z', '2018-12-01T00:00:00.000Z']\n",
      "(19.0, 34.0, 30.0, 42.0)\n",
      "{'raster': {'title': 'Default Raster', 'legend': 'http://localhost:8082/geoserver/wms?request=GetLegendGraphic&format=image%2Fpng&width=20&height=20&layer=geonode%3APVOUT'}, 'geonode:3color_gradient_PVOUT': {'title': 'SLD Cook Book: 3 color gradient', 'legend': 'http://localhost:8082/geoserver/wms?request=GetLegendGraphic&format=image%2Fpng&width=20&height=20&layer=geonode%3APVOUT&style=3color_gradient_PVOUT'}}\n"
     ]
    }
   ],
   "source": [
    "layer = \"geonode:PVOUT\"\n",
    "name = wms[layer].title\n",
    "print(wms[layer].timepositions)\n",
    "print(wms[layer].boundingBoxWGS84)\n",
    "print(wms[layer].styles)"
   ]
  },
  {
   "cell_type": "code",
   "execution_count": 21,
   "metadata": {},
   "outputs": [],
   "source": [
    "lon = (wms[layer].boundingBox[0] + wms[layer].boundingBox[2]) / 2.\n",
    "lat = (wms[layer].boundingBox[1] + wms[layer].boundingBox[3]) / 2.\n",
    "center = lat, lon\n",
    "\n",
    "time_interval = '{0}/{1}'.format(\n",
    "    wms[layer].timepositions[0].strip(),\n",
    "    wms[layer].timepositions[-1].strip()\n",
    ")\n",
    "style = 'geonode:3color_gradient_PVOUT'\n",
    "\n",
    "if style not in wms[layer].styles:\n",
    "    style = None"
   ]
  },
  {
   "cell_type": "markdown",
   "metadata": {},
   "source": [
    "## Application: Time scrolling raster application"
   ]
  },
  {
   "cell_type": "code",
   "execution_count": 22,
   "metadata": {},
   "outputs": [
    {
     "name": "stdout",
     "output_type": "stream",
     "text": [
      "This map consists of one time scrolling layer: PVOUT\n",
      "Abstract:\n",
      "Longterm monthly average of potential photovoltaic electricity production\r\n",
      "(PVOUT) in kWh/kWp, calculated for all months and covering the years from 1994\r\n",
      "to 2018\n"
     ]
    },
    {
     "data": {
      "text/html": [
       "<div style=\"width:100%;\"><div style=\"position:relative;width:100%;height:0;padding-bottom:60%;\"><iframe src=\"data:text/html;charset=utf-8;base64,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\" style=\"position:absolute;width:100%;height:100%;left:0;top:0;border:none !important;\" allowfullscreen webkitallowfullscreen mozallowfullscreen></iframe></div></div>"
      ],
      "text/plain": [
       "<folium.folium.Map at 0x7f86f46760d0>"
      ]
     },
     "execution_count": 22,
     "metadata": {},
     "output_type": "execute_result"
    }
   ],
   "source": [
    "import folium\n",
    "from folium import plugins\n",
    "import os\n",
    "\n",
    "#from branca.element import Figure\n",
    "#width, height = 430, 280\n",
    "#fig = Figure(width=width, height=height)\n",
    "\n",
    "print(\"This map consists of one time scrolling layer: {}\".format(wms[\"geonode:PVOUT\"].title))\n",
    "print(\"Abstract:\")\n",
    "print(wms[\"geonode:PVOUT\"].abstract)\n",
    "#print(catalog[catalog[\"layer_name\"]==\"PVOUT\"].abstract.values[0])\n",
    "\n",
    "lon, lat = 24, 38\n",
    "\n",
    "m = folium.Map(\n",
    "    tiles = None,\n",
    "    location=[lat, lon],\n",
    "    zoom_start=6,\n",
    "    control_scale=True\n",
    ")\n",
    "\n",
    "folium.raster_layers.WmsTileLayer(\n",
    "    url=url,\n",
    "    layers='geonode:ne_10m_admin_0_countries',\n",
    "    name='countries',\n",
    "    fmt='image/png',\n",
    "    overlay=False,\n",
    "    control=True,\n",
    ").add_to(m)\n",
    "\n",
    "pvout_monthly = folium.raster_layers.WmsTileLayer(\n",
    "    url=url,\n",
    "    name=\"PVOUT_monthly\",\n",
    "    styles=None,\n",
    "    fmt='image/png8',\n",
    "    transparent=True,\n",
    "    layers=\"geonode:PVOUT\",\n",
    "    overlay=True\n",
    ").add_to(m)\n",
    "\n",
    "time = plugins.TimestampedWmsTileLayers(\n",
    "    pvout_monthly,\n",
    "    period='P1M',\n",
    "    time_interval=time_interval\n",
    ").add_to(m)\n",
    "\n",
    "m.save(os.path.join('results', 'PVOUT_time_scroller.html'))\n",
    "\n",
    "m"
   ]
  },
  {
   "cell_type": "markdown",
   "metadata": {},
   "source": [
    "We observe that during the summer period we have lighter colors which means higher PV production potential obviously..."
   ]
  }
 ],
 "metadata": {
  "kernelspec": {
   "display_name": "Python 3",
   "language": "python",
   "name": "python3"
  },
  "language_info": {
   "codemirror_mode": {
    "name": "ipython",
    "version": 3
   },
   "file_extension": ".py",
   "mimetype": "text/x-python",
   "name": "python",
   "nbconvert_exporter": "python",
   "pygments_lexer": "ipython3",
   "version": "3.8.2"
  }
 },
 "nbformat": 4,
 "nbformat_minor": 4
}
