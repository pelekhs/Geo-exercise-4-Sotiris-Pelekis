{
 "cells": [
  {
   "cell_type": "markdown",
   "metadata": {},
   "source": [
    "# Demand densities application"
   ]
  },
  {
   "cell_type": "markdown",
   "metadata": {},
   "source": [
    "## WFS custom function for downloading vector layers from geoserver to the disk through OWSLib."
   ]
  },
  {
   "cell_type": "code",
   "execution_count": null,
   "metadata": {},
   "outputs": [],
   "source": [
    "import os\n",
    "import pandas as pd\n",
    "from owslib.wfs import WebFeatureService\n",
    "import json\n",
    "\n",
    "wfs = WebFeatureService(url='http://127.0.0.1:8082/geoserver/wfs', version='1.1.0')\n",
    "def getFeature(layer, bbox=None, workspace=\"geonode\", format=\"json\"):\n",
    "    if bbox:\n",
    "        response = wfs.getfeature(typename=workspace+\":\"+layer, outputFormat=format, bbox=bbox)\n",
    "    else:\n",
    "        response = wfs.getfeature(typename=workspace+\":\"+layer, outputFormat=format)\n",
    "    with open(os.path.join(\"wfs\", layer+\".\"+format), 'wb') as f:\n",
    "        while True:\n",
    "            data = response.read(100)\n",
    "            if not data:\n",
    "                break\n",
    "            f.write(data)\n",
    "    name=f.name\n",
    "    f.close\n",
    "    return (name)"
   ]
  },
  {
   "cell_type": "markdown",
   "metadata": {},
   "source": [
    "## WFS requests to geoserver in order to store layer as vector (csv & GeoJson) to the disk"
   ]
  },
  {
   "cell_type": "code",
   "execution_count": null,
   "metadata": {},
   "outputs": [],
   "source": [
    "import folium\n",
    "from folium.plugins import HeatMap\n",
    "\n",
    "layer = \"kwh_sq\"\n",
    "geodata = getFeature(layer, format=\"json\")\n",
    "data = pd.read_csv(getFeature(layer, format=\"csv\"))\n",
    "data.head()\n",
    "with open(os.path.join(\"wfs\",layer+\".json\")) as f:\n",
    "    data_geojson = json.loads(f.read())"
   ]
  },
  {
   "cell_type": "markdown",
   "metadata": {},
   "source": [
    "## I Also import dataset from postgis to get geometry columns in geopandas"
   ]
  },
  {
   "cell_type": "code",
   "execution_count": null,
   "metadata": {},
   "outputs": [],
   "source": [
    "## I also import the data from postgres\n",
    "import psycopg2\n",
    "import geopandas as gpd\n",
    "conn = psycopg2.connect(database=\"mydb\",\n",
    "  user=\"user\",\n",
    "  host=\"localhost\",\n",
    "  password=\"user\")\n",
    "kwh_sq = gpd.read_postgis(\n",
    "     'select gid, mun, heat, water, geom, St_AsText(St_Centroid(geom)) as center from final', \n",
    "    conn, geom_col='geom')"
   ]
  },
  {
   "cell_type": "markdown",
   "metadata": {},
   "source": [
    "## Here I create the data as required for the heatmaps"
   ]
  },
  {
   "cell_type": "markdown",
   "metadata": {},
   "source": [
    "I create centroids from polygons and then link them to the demand density metrics"
   ]
  },
  {
   "cell_type": "code",
   "execution_count": null,
   "metadata": {},
   "outputs": [],
   "source": [
    "import numpy as np\n",
    "poly_to_x = lambda k:k.centroid.x\n",
    "poly_to_y = lambda k:k.centroid.y\n",
    "centroids_x = kwh_sq.geom.apply(poly_to_x).values\n",
    "centroids_y = kwh_sq.geom.apply(poly_to_y).values\n",
    "heat = kwh_sq.heat.values\n",
    "water = kwh_sq.water.values\n",
    "heat_data = np.vstack((centroids_y, centroids_x, heat)).T\n",
    "water_data = np.vstack((centroids_y, centroids_x, water)).T"
   ]
  },
  {
   "cell_type": "markdown",
   "metadata": {},
   "source": [
    "## Map"
   ]
  },
  {
   "cell_type": "code",
   "execution_count": null,
   "metadata": {},
   "outputs": [],
   "source": [
    "m = folium.Map([37, 22], tiles='cartodbdark_matter', zoom_start=6)\n",
    "\n",
    "# HeatMap layers\n",
    "HeatMap(data=heat_data,\n",
    "        name=\"Heat demand density\",\n",
    "        radius=12).add_to(m)\n",
    "\n",
    "HeatMap(data=water_data,\n",
    "        name=\"Water demand density\",\n",
    "        radius=13,\n",
    "        show=False).add_to(m)\n",
    "\n",
    "# Main vector layer\n",
    "folium.GeoJson(\n",
    "    #data = kwh_sq[['mun', 'geom', 'heat', 'water']].to_json(),\n",
    "    data=geodata,\n",
    "    name='Density',\n",
    "    show=True,\n",
    "    style_function=lambda x: {\n",
    "        'fillColor': 'lightblue',\n",
    "        'color': 'black',\n",
    "        'opacity': 0.3,\n",
    "        'weight': 1,\n",
    "        'fillOpacity':0.3\n",
    "    },\n",
    "    highlight_function=lambda x: {\n",
    "        'fillOpacity':0.9\n",
    "    },\n",
    "    tooltip=folium.features.GeoJsonTooltip(\n",
    "        fields=['mun', 'heat', 'water'],\n",
    "        aliases=['Municipality:', 'Energy demand for heat [kwh/sq_m]:', 'Energy demand for water [kwh/sq_m]:']\n",
    "    )\n",
    ").add_to(m)\n",
    "\n",
    "folium.LayerControl().add_to(m)\n",
    "\n",
    "m"
   ]
  },
  {
   "cell_type": "code",
   "execution_count": null,
   "metadata": {},
   "outputs": [],
   "source": [
    "m.save(os.path.join('results', 'demand_densities.html'))"
   ]
  }
 ],
 "metadata": {
  "kernelspec": {
   "display_name": "Python 3",
   "language": "python",
   "name": "python3"
  },
  "language_info": {
   "codemirror_mode": {
    "name": "ipython",
    "version": 3
   },
   "file_extension": ".py",
   "mimetype": "text/x-python",
   "name": "python",
   "nbconvert_exporter": "python",
   "pygments_lexer": "ipython3",
   "version": "3.8.2"
  }
 },
 "nbformat": 4,
 "nbformat_minor": 4
}
